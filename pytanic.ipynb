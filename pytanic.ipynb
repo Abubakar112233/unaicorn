{
 "cells": [
  {
   "cell_type": "code",
   "execution_count": 7,
   "id": "77673861",
   "metadata": {},
   "outputs": [
    {
     "name": "stdout",
     "output_type": "stream",
     "text": [
      "\n"
     ]
    }
   ],
   "source": [
    "import pandas as pd\n",
    "from sklearn.model_selection import train_test_split\n",
    "import pickle\n",
    "from sklearn.ensemble import RandomForestClassifier\n",
    "import time\n",
    "\n",
    "df = pd.read_csv('train.csv')\n",
    "\n",
    "def get_title(name):\n",
    "    if '.' in name:\n",
    "        return name.split(',')[1].split('.')[0].strip()\n",
    "    else:\n",
    "        return \"unknown\"\n",
    "    \n",
    "def replace_titles(x):\n",
    "    title = x['Title']\n",
    "    if title in ['Capt', 'Col', 'Major']:\n",
    "        return 'Officer'\n",
    "    elif title in [\"Jonkheer\",\"Don\",'the Countess', 'Dona', 'Lady',\"Sir\"]:\n",
    "        return 'Royalty'\n",
    "    elif title in ['the Countess', 'Mme', 'Lady']:\n",
    "        return 'Mrs'\n",
    "    elif title in ['Mlle', 'Ms']:\n",
    "        return 'Miss'\n",
    "    else:\n",
    "        return title\n",
    "df['Title'] = df['Name'].map(lambda x: get_title(x))\n",
    "\n",
    "\n",
    "df['Title'] = df.apply(replace_titles, axis=1)\n",
    "df['Age'].fillna(df['Age'].median(), inplace=True)\n",
    "df['Fare'].fillna(df['Fare'].median(), inplace=True)\n",
    "df['Embarked'].fillna(\"S\", inplace=True)\n",
    "df.drop(\"Cabin\", axis=1, inplace=True)\n",
    "df.drop(\"Ticket\", axis=1, inplace=True)\n",
    "df.drop(\"Name\", axis=1, inplace=True)\n",
    "df.Sex.replace(('male','female'), (0,1), inplace = True)\n",
    "df.Embarked.replace(('S','C','Q'), (0,1,2), inplace = True)\n",
    "df.Title.replace(('Mr','Miss','Mrs','Master','Dr','Rev','Officer','Royalty'), (0,1,2,3,4,5,6,7), inplace = True)\n",
    "\n",
    "x = df.drop([\"Survived\", \"PassengerId\"], axis = 1)\n",
    "y = df[\"Survived\"]\n",
    "\n",
    "x_train, x_val, y_train, y_val = train_test_split(x,y,test_size=0.1)\n",
    "\n",
    "randomforest = RandomForestClassifier()\n",
    "randomforest.fit(x_train, y_train)\n",
    "pickle.dump(randomforest, open('testing.sav', 'wb'))\n",
    "print()"
   ]
  },
  {
   "cell_type": "code",
   "execution_count": null,
   "id": "bd0777ab",
   "metadata": {},
   "outputs": [],
   "source": []
  }
 ],
 "metadata": {
  "kernelspec": {
   "display_name": "Python 3 (ipykernel)",
   "language": "python",
   "name": "python3"
  },
  "language_info": {
   "codemirror_mode": {
    "name": "ipython",
    "version": 3
   },
   "file_extension": ".py",
   "mimetype": "text/x-python",
   "name": "python",
   "nbconvert_exporter": "python",
   "pygments_lexer": "ipython3",
   "version": "3.10.6"
  }
 },
 "nbformat": 4,
 "nbformat_minor": 5
}
